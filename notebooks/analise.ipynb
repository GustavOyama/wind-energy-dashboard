{
 "cells": [
  {
   "cell_type": "code",
   "execution_count": 1,
   "id": "fd08564f-208c-4bed-87f7-2b45bcda0ab4",
   "metadata": {},
   "outputs": [],
   "source": [
    "import requests\n",
    "import geopandas as gpd\n",
    "import pandas as pd\n",
    "import os\n",
    "import json"
   ]
  },
  {
   "cell_type": "markdown",
   "id": "93502e97-4bf8-4f8f-b86e-5715ced255df",
   "metadata": {},
   "source": [
    "### Extração"
   ]
  },
  {
   "cell_type": "code",
   "execution_count": 2,
   "id": "c9db68af-2640-47ac-8f78-b20b2690a972",
   "metadata": {},
   "outputs": [],
   "source": [
    "def fetch_geojson_data(\n",
    "    url: str = \"https://sigel.aneel.gov.br/arcgis/rest/services/PORTAL/WFS/MapServer/0/query\",\n",
    "    batch_size: int = 1000,\n",
    "    timeout: int = 30,\n",
    ") -> [dict[str,any]]:\n",
    "    \"\"\"\n",
    "    Faz uma requisição à API e retorna os dados no formato GeoJSON.\n",
    "\n",
    "    Parâmetros:\n",
    "        \n",
    "    Retorno:\n",
    "        dict com os dados ou None (caso erro)\n",
    "    \"\"\"\n",
    "    all_features = []\n",
    "    offset = 0\n",
    "\n",
    "    while True:\n",
    "        params = {\n",
    "            \"where\": \"1=1\",\n",
    "            \"outFields\": \"*\",\n",
    "            \"f\": \"geojson\",\n",
    "            \"resultOffset\": offset,\n",
    "            \"resultRecordCount\": batch_size\n",
    "        }\n",
    "\n",
    "        try:\n",
    "            print(f\" Coletando registros a partir do offset {offset}...\")\n",
    "            response = requests.get(url, params=params, timeout=timeout)\n",
    "            response.raise_for_status()\n",
    "            data = response.json()\n",
    "            features = data.get(\"features\", [])\n",
    "\n",
    "            if not features:\n",
    "                print(\" Coleta concluída.\")\n",
    "                break\n",
    "\n",
    "            all_features.extend(features)\n",
    "            offset += batch_size\n",
    "\n",
    "        except requests.exceptions.RequestException as e:\n",
    "            print(f\" Erro na página {offset}: {e}\")\n",
    "            break\n",
    "\n",
    "    print(f\" Total de registros coletados: {len(all_features)}\")\n",
    "    return {\"type\": \"FeatureCollection\", \"features\": all_features} if all_features else None\n"
   ]
  },
  {
   "cell_type": "code",
   "execution_count": 3,
   "id": "993e2619-d728-4f5f-92be-3729c1efa4aa",
   "metadata": {
    "scrolled": true
   },
   "outputs": [
    {
     "name": "stdout",
     "output_type": "stream",
     "text": [
      " Coletando registros a partir do offset 0...\n",
      " Coletando registros a partir do offset 1000...\n",
      " Coletando registros a partir do offset 2000...\n",
      " Coletando registros a partir do offset 3000...\n",
      " Coletando registros a partir do offset 4000...\n",
      " Coletando registros a partir do offset 5000...\n",
      " Coletando registros a partir do offset 6000...\n",
      " Coletando registros a partir do offset 7000...\n",
      " Coletando registros a partir do offset 8000...\n",
      " Coletando registros a partir do offset 9000...\n",
      " Coletando registros a partir do offset 10000...\n",
      " Coletando registros a partir do offset 11000...\n",
      " Coletando registros a partir do offset 12000...\n",
      " Coletando registros a partir do offset 13000...\n",
      " Coletando registros a partir do offset 14000...\n",
      " Coletando registros a partir do offset 15000...\n",
      " Coletando registros a partir do offset 16000...\n",
      " Coletando registros a partir do offset 17000...\n",
      " Coletando registros a partir do offset 18000...\n",
      " Coletando registros a partir do offset 19000...\n",
      " Coletando registros a partir do offset 20000...\n",
      " Coletando registros a partir do offset 21000...\n",
      " Coletando registros a partir do offset 22000...\n",
      " Coletando registros a partir do offset 23000...\n",
      " Coletando registros a partir do offset 24000...\n",
      " Coleta concluída.\n",
      " Total de registros coletados: 23522\n"
     ]
    }
   ],
   "source": [
    "# Realiza a consulta\n",
    "df = fetch_geojson_data()"
   ]
  },
  {
   "cell_type": "code",
   "execution_count": 4,
   "id": "86bb9152-7a8a-4e41-9bf8-81ca03734a71",
   "metadata": {
    "scrolled": true
   },
   "outputs": [],
   "source": [
    "# Salve arquivo raw\n",
    "os.makedirs(\"../data/raw\", exist_ok=True)\n",
    "if df:\n",
    "    with open(\"../data/raw/aerogeradores.geojson\", \"w\", encoding=\"utf-8\") as f:\n",
    "        json.dump(df, f, ensure_ascii=False, indent=2)"
   ]
  },
  {
   "cell_type": "markdown",
   "id": "b514686a-0d45-4ee4-897b-d3511b311dea",
   "metadata": {},
   "source": [
    "### Processamento"
   ]
  },
  {
   "cell_type": "code",
   "execution_count": 7,
   "id": "8ba3d9c9-1c10-4d00-80d9-80c1e1ed0775",
   "metadata": {},
   "outputs": [],
   "source": [
    "def load_geojson(filepath: str) -> [gpd.GeoDataFrame]:\n",
    "    \"\"\"\n",
    "    Carrega um arquivo GeoJSON e retorna um GeoDataFrame.\n",
    "    \"\"\"\n",
    "    try:\n",
    "        gdf = gpd.read_file(filepath)\n",
    "        print(f\" GeoDataFrame carregado com {len(gdf)} registros.\")\n",
    "        return gdf\n",
    "    except Exception as e:\n",
    "        print(f\" Erro ao carregar o GeoJSON: {e}\")\n",
    "        return None\n",
    "def add_lat_lon(gdf: gpd.GeoDataFrame) -> gpd.GeoDataFrame:\n",
    "    \"\"\"\n",
    "    Extrai latitude e longitude da geometria e adiciona como novas colunas.\n",
    "    \"\"\"\n",
    "    gdf = gdf.to_crs(epsg=4326)\n",
    "\n",
    "    gdf[\"LATITUDE\"] = gdf.geometry.y\n",
    "    gdf[\"LONGITUDE\"] = gdf.geometry.x\n",
    "    return gdf\n",
    "\n",
    "def validate_clean(gdf: gpd.GeoDataFrame) -> gpd.GeoDataFrame:\n",
    "    \"\"\"\n",
    "    Remove duplicatas e linhas sem geometria.\n",
    "    \"\"\"\n",
    "    before = len(gdf)\n",
    "    gdf = gdf.drop_duplicates()\n",
    "    gdf = gdf[gdf.geometry.notnull()]\n",
    "    after = len(gdf)\n",
    "    print(f\" Registros após limpeza: {after} (removidos {before - after})\")\n",
    "    return gdf\n",
    "    \n",
    "def export_to_csv(gdf: gpd.GeoDataFrame, output_path: str):\n",
    "    \"\"\"\n",
    "    Exporta o GeoDataFrame para um arquivo CSV simples (sem geometria).\n",
    "    \"\"\"\n",
    "    try:\n",
    "        df = gdf.drop(columns=[\"X\",\"Y\",\"VERSAO\",\"geometry\"])  \n",
    "        df.to_csv(output_path, index=False)\n",
    "        print(f\" Arquivo salvo em: {output_path}\")\n",
    "    except Exception as e:\n",
    "        print(f\" Erro ao salvar CSV: {e}\")\n"
   ]
  },
  {
   "cell_type": "code",
   "execution_count": 6,
   "id": "74f2e48a-5c1c-4ce6-80cb-a566106e441f",
   "metadata": {},
   "outputs": [
    {
     "name": "stdout",
     "output_type": "stream",
     "text": [
      " GeoDataFrame carregado com 23522 registros.\n"
     ]
    }
   ],
   "source": [
    "# Carrega arquivo Geojson\n",
    "\n",
    "df = load_geojson(\"../data/raw/aerogeradores.geojson\")"
   ]
  },
  {
   "cell_type": "code",
   "execution_count": 7,
   "id": "0768b4ab-e935-4d09-924c-1bddbaed4acd",
   "metadata": {},
   "outputs": [],
   "source": [
    "# adiciona latitude e longitude\n",
    "\n",
    "df = add_lat_lon(df);"
   ]
  },
  {
   "cell_type": "code",
   "execution_count": 8,
   "id": "27b83016-fe3d-45ca-92d7-63f032d24dbb",
   "metadata": {
    "scrolled": true
   },
   "outputs": [
    {
     "name": "stdout",
     "output_type": "stream",
     "text": [
      " Registros após limpeza: 23522 (removidos 0)\n"
     ]
    }
   ],
   "source": [
    "# limpeza\n",
    "\n",
    "df = validate_clean(df)"
   ]
  },
  {
   "cell_type": "code",
   "execution_count": 8,
   "id": "0372fef7-6af4-43d5-a7cf-9e956f1322d8",
   "metadata": {},
   "outputs": [
    {
     "name": "stdout",
     "output_type": "stream",
     "text": [
      " Arquivo salvo em: ../data/processed/outputs.csv\n"
     ]
    }
   ],
   "source": [
    "path_output = \"../data/processed/outputs.csv\"\n",
    "os.makedirs(\"../data/processed\", exist_ok=True)\n",
    "export_to_csv(df,path_output)\n"
   ]
  },
  {
   "cell_type": "code",
   "execution_count": 9,
   "id": "4e5bc815-a76f-48cb-8a55-43b9882ced0b",
   "metadata": {},
   "outputs": [],
   "source": [
    "df_1 = pd.read_csv(path_output)"
   ]
  },
  {
   "cell_type": "code",
   "execution_count": 11,
   "id": "e44c39b7-7fef-4feb-8e9f-ee975f79e311",
   "metadata": {},
   "outputs": [
    {
     "name": "stdout",
     "output_type": "stream",
     "text": [
      "            POT_MW    ALT_TOTAL    ALT_TORRE   DIAM_ROTOR  DATA_ATUALIZACAO  \\\n",
      "count  8184.000000  8184.000000  8180.000000  8184.000000      8.184000e+03   \n",
      "mean      4.116552   176.716371   106.211650   141.040640      1.675018e+12   \n",
      "std       1.791423    28.221288    15.443362    28.990574      2.431905e+10   \n",
      "min       0.004200   121.250000    75.000000    82.000000      1.609178e+12   \n",
      "25%       2.350000   150.000000    90.000000   116.000000      1.666626e+12   \n",
      "50%       4.200000   195.000000   115.000000   150.000000      1.666626e+12   \n",
      "75%       6.000000   200.000000   120.000000   170.000000      1.693932e+12   \n",
      "max       6.600000   205.000000   126.000000   170.000000      1.746463e+12   \n",
      "\n",
      "       EOL_VERSAO_ID              X             Y      OBJECTID  \n",
      "count    8184.000000    8184.000000  8.184000e+03   8184.000000  \n",
      "mean    46529.248045  470667.532768  8.709460e+06  12811.963954  \n",
      "std     13762.783125  243893.406745  2.632392e+05   6703.451447  \n",
      "min     30283.000000     -42.578923 -1.141045e+01      1.000000  \n",
      "25%     33529.000000  240045.500000  8.573591e+06   7486.750000  \n",
      "50%     47209.000000  334311.500000  8.772753e+06  12820.500000  \n",
      "75%     53676.000000  756796.520735  8.848029e+06  18714.250000  \n",
      "max     73293.000000  822817.000000  9.008273e+06  23519.000000  \n",
      "Coeficiente de correlação entre altitude total e potência instalada: 0.782\n"
     ]
    },
    {
     "name": "stderr",
     "output_type": "stream",
     "text": [
      "C:\\Users\\Gustavo\\AppData\\Local\\Programs\\Python\\Python313\\Lib\\site-packages\\geopandas\\geodataframe.py:1968: SettingWithCopyWarning: \n",
      "A value is trying to be set on a copy of a slice from a DataFrame.\n",
      "Try using .loc[row_indexer,col_indexer] = value instead\n",
      "\n",
      "See the caveats in the documentation: https://pandas.pydata.org/pandas-docs/stable/user_guide/indexing.html#returning-a-view-versus-a-copy\n",
      "  super().__setitem__(key, value)\n"
     ]
    }
   ],
   "source": [
    "import geopandas as gpd\n",
    "import pandas as pd\n",
    "\n",
    "\n",
    "gdf = df[df[\"UF\"]==\"BA\"]  \n",
    "print(gdf.describe())\n",
    "gdf['ALT_TOTAL'] = pd.to_numeric(gdf['ALT_TOTAL'], errors='coerce')\n",
    "gdf['POT_MW'] = pd.to_numeric(gdf['POT_MW'], errors='coerce')\n",
    "\n",
    "# Remove valores nulos\n",
    "gdf_clean = gdf.dropna(subset=['ALT_TOTAL', 'POT_MW'])\n",
    "\n",
    "# Calculo do coeficiente de correlação de Pearson\n",
    "correlation = gdf_clean['ALT_TOTAL'].corr(gdf_clean['POT_MW'])\n",
    "\n",
    "print(f\"Coeficiente de correlação entre altitude total e potência instalada: {correlation:.3f}\")"
   ]
  }
 ],
 "metadata": {
  "kernelspec": {
   "display_name": "Python 3 (ipykernel)",
   "language": "python",
   "name": "python3"
  },
  "language_info": {
   "codemirror_mode": {
    "name": "ipython",
    "version": 3
   },
   "file_extension": ".py",
   "mimetype": "text/x-python",
   "name": "python",
   "nbconvert_exporter": "python",
   "pygments_lexer": "ipython3",
   "version": "3.13.5"
  },
  "widgets": {
   "application/vnd.jupyter.widget-state+json": {
    "state": {},
    "version_major": 2,
    "version_minor": 0
   }
  }
 },
 "nbformat": 4,
 "nbformat_minor": 5
}
