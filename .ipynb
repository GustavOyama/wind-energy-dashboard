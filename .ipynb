{
 "cells": [
  {
   "cell_type": "code",
   "execution_count": 10,
   "id": "18ed2a05-46ed-4c32-900f-695a4224ec8a",
   "metadata": {},
   "outputs": [
    {
     "name": "stdout",
     "output_type": "stream",
     "text": [
      "🔍 Iniciando extração de dados da API da ANEEL...\n",
      " Coletando registros a partir do offset 0...\n",
      " Coletando registros a partir do offset 1000...\n",
      " Coletando registros a partir do offset 2000...\n",
      " Coletando registros a partir do offset 3000...\n",
      " Coletando registros a partir do offset 4000...\n",
      " Coletando registros a partir do offset 5000...\n",
      " Coletando registros a partir do offset 6000...\n",
      " Coletando registros a partir do offset 7000...\n",
      " Coletando registros a partir do offset 8000...\n",
      " Coletando registros a partir do offset 9000...\n",
      " Coletando registros a partir do offset 10000...\n",
      " Coletando registros a partir do offset 11000...\n",
      " Coletando registros a partir do offset 12000...\n",
      " Coletando registros a partir do offset 13000...\n",
      " Coletando registros a partir do offset 14000...\n",
      " Coletando registros a partir do offset 15000...\n",
      " Coletando registros a partir do offset 16000...\n",
      " Coletando registros a partir do offset 17000...\n",
      " Coletando registros a partir do offset 18000...\n",
      " Coletando registros a partir do offset 19000...\n",
      " Coletando registros a partir do offset 20000...\n",
      " Coletando registros a partir do offset 21000...\n",
      " Coletando registros a partir do offset 22000...\n",
      " Coletando registros a partir do offset 23000...\n",
      " Coletando registros a partir do offset 24000...\n",
      " Coleta concluída.\n",
      " Total de registros coletados: 23522\n",
      "💾 Salvando dados brutos em GeoJSON...\n",
      "📁 GeoJSON salvo em data\\raw\\aerogeradores.geojson\n",
      "📂 Carregando dados salvos como GeoDataFrame...\n",
      "📊 GeoDataFrame carregado com 23522 registros.\n",
      "🧪 Realizando transformação dos dados...\n",
      "🧹 Registros após limpeza: 23522 (removidos 0)\n",
      "📤 Exportando dados tratados para CSV...\n"
     ]
    },
    {
     "ename": "NameError",
     "evalue": "name 'export_to_csv' is not defined",
     "output_type": "error",
     "traceback": [
      "\u001b[31m---------------------------------------------------------------------------\u001b[39m",
      "\u001b[31mNameError\u001b[39m                                 Traceback (most recent call last)",
      "\u001b[36mCell\u001b[39m\u001b[36m \u001b[39m\u001b[32mIn[10]\u001b[39m\u001b[32m, line 45\u001b[39m\n\u001b[32m     42\u001b[39m     \u001b[38;5;28mprint\u001b[39m(\u001b[33m\"\u001b[39m\u001b[33m✅ Pipeline concluída com sucesso!\u001b[39m\u001b[33m\"\u001b[39m)\n\u001b[32m     44\u001b[39m \u001b[38;5;28;01mif\u001b[39;00m \u001b[34m__name__\u001b[39m == \u001b[33m\"\u001b[39m\u001b[33m__main__\u001b[39m\u001b[33m\"\u001b[39m:\n\u001b[32m---> \u001b[39m\u001b[32m45\u001b[39m     \u001b[43mmain\u001b[49m\u001b[43m(\u001b[49m\u001b[43m)\u001b[49m\n",
      "\u001b[36mCell\u001b[39m\u001b[36m \u001b[39m\u001b[32mIn[10]\u001b[39m\u001b[32m, line 40\u001b[39m, in \u001b[36mmain\u001b[39m\u001b[34m()\u001b[39m\n\u001b[32m     38\u001b[39m \u001b[38;5;66;03m# Etapa 5: Exportação para CSV\u001b[39;00m\n\u001b[32m     39\u001b[39m \u001b[38;5;28mprint\u001b[39m(\u001b[33m\"\u001b[39m\u001b[33m📤 Exportando dados tratados para CSV...\u001b[39m\u001b[33m\"\u001b[39m)\n\u001b[32m---> \u001b[39m\u001b[32m40\u001b[39m \u001b[43mexport_to_csv\u001b[49m(gdf, \u001b[38;5;28mstr\u001b[39m(PROCESSED_PATH))\n\u001b[32m     42\u001b[39m \u001b[38;5;28mprint\u001b[39m(\u001b[33m\"\u001b[39m\u001b[33m✅ Pipeline concluída com sucesso!\u001b[39m\u001b[33m\"\u001b[39m)\n",
      "\u001b[31mNameError\u001b[39m: name 'export_to_csv' is not defined"
     ]
    }
   ],
   "source": [
    "from src.extract import fetch_geojson_data\n",
    "from src.transform import add_lat_lon, validate_clean\n",
    "from src.load import save_geojson, load_geojson, export_to_csv\n",
    "\n",
    "from pathlib import Path\n",
    "\n",
    "# 📁 Diretórios\n",
    "DATA_DIR = Path(\"data\")\n",
    "RAW_PATH = DATA_DIR / \"raw\" / \"aerogeradores.geojson\"\n",
    "PROCESSED_PATH = DATA_DIR / \"processed\" / \"outputs.csv\"\n",
    "\n",
    "def main():\n",
    "    # Etapa 1: Extração\n",
    "    print(\"🔍 Iniciando extração de dados da API da ANEEL...\")\n",
    "    geojson_data = fetch_geojson_data()\n",
    "\n",
    "    if not geojson_data:\n",
    "        print(\"❌ Nenhum dado foi extraído. Encerrando o processo.\")\n",
    "        return\n",
    "\n",
    "    # Etapa 2: Salvando os dados brutos\n",
    "    print(\"💾 Salvando dados brutos em GeoJSON...\")\n",
    "    save_geojson(geojson_data, str(RAW_PATH))\n",
    "\n",
    "    # Etapa 3: Carregando como GeoDataFrame\n",
    "    print(\"📂 Carregando dados salvos como GeoDataFrame...\")\n",
    "    gdf = load_geojson(str(RAW_PATH))\n",
    "\n",
    "    if gdf is None or gdf.empty:\n",
    "        print(\"❌ GeoDataFrame vazio ou nulo. Encerrando o processo.\")\n",
    "        return\n",
    "\n",
    "    # Etapa 4: Transformação\n",
    "    print(\"🧪 Realizando transformação dos dados...\")\n",
    "    gdf = validate_clean(gdf)\n",
    "    gdf = add_lat_lon(gdf)\n",
    "\n",
    "    # Etapa 5: Exportação para CSV\n",
    "    print(\"📤 Exportando dados tratados para CSV...\")\n",
    "    export_to_csv(gdf, str(PROCESSED_PATH))\n",
    "\n",
    "    print(\"✅ Pipeline concluída com sucesso!\")\n",
    "\n",
    "if __name__ == \"__main__\":\n",
    "    main()\n"
   ]
  },
  {
   "cell_type": "code",
   "execution_count": 16,
   "id": "1e1544e7-e75b-4fa3-a9aa-fca36193dab3",
   "metadata": {
    "scrolled": true
   },
   "outputs": [
    {
     "ename": "ImportError",
     "evalue": "cannot import name 'export_to_csv' from 'src.load' (C:\\Users\\Gustavo\\Documents\\wind-energy-dashboard\\src\\load.py)",
     "output_type": "error",
     "traceback": [
      "\u001b[31m---------------------------------------------------------------------------\u001b[39m",
      "\u001b[31mImportError\u001b[39m                               Traceback (most recent call last)",
      "\u001b[36mCell\u001b[39m\u001b[36m \u001b[39m\u001b[32mIn[16]\u001b[39m\u001b[32m, line 3\u001b[39m\n\u001b[32m      1\u001b[39m \u001b[38;5;28;01mfrom\u001b[39;00m\u001b[38;5;250m \u001b[39m\u001b[34;01msrc\u001b[39;00m\u001b[34;01m.\u001b[39;00m\u001b[34;01mextract\u001b[39;00m\u001b[38;5;250m \u001b[39m\u001b[38;5;28;01mimport\u001b[39;00m fetch_geojson_data\n\u001b[32m      2\u001b[39m \u001b[38;5;28;01mfrom\u001b[39;00m\u001b[38;5;250m \u001b[39m\u001b[34;01msrc\u001b[39;00m\u001b[34;01m.\u001b[39;00m\u001b[34;01mtransform\u001b[39;00m\u001b[38;5;250m \u001b[39m\u001b[38;5;28;01mimport\u001b[39;00m add_lat_lon, validate_clean\n\u001b[32m----> \u001b[39m\u001b[32m3\u001b[39m \u001b[38;5;28;01mfrom\u001b[39;00m\u001b[38;5;250m \u001b[39m\u001b[34;01msrc\u001b[39;00m\u001b[34;01m.\u001b[39;00m\u001b[34;01mload\u001b[39;00m\u001b[38;5;250m \u001b[39m\u001b[38;5;28;01mimport\u001b[39;00m save_geojson, load_geojson, export_to_csv\n",
      "\u001b[31mImportError\u001b[39m: cannot import name 'export_to_csv' from 'src.load' (C:\\Users\\Gustavo\\Documents\\wind-energy-dashboard\\src\\load.py)"
     ]
    }
   ],
   "source": [
    "from src.extract import fetch_geojson_data\n",
    "from src.transform import add_lat_lon, validate_clean\n",
    "from src.load import save_geojson, load_geojson, export_to_csv"
   ]
  },
  {
   "cell_type": "code",
   "execution_count": 15,
   "id": "446b4d67-a474-4f7f-a1fc-98d9ee608734",
   "metadata": {},
   "outputs": [
    {
     "name": "stdout",
     "output_type": "stream",
     "text": [
      "📍 load.py importado de: C:\\Users\\Gustavo\\Documents\\wind-energy-dashboard\\src\\load.py\n",
      "📋 Funções em src.load: ['__builtins__', '__cached__', '__doc__', '__file__', '__loader__', '__name__', '__package__', '__spec__', 'gpd', 'json', 'load_geojson', 'os', 'save_geojson']\n"
     ]
    }
   ],
   "source": [
    "import src.load\n",
    "print(\"📍 load.py importado de:\", src.load.__file__)\n",
    "print(\"📋 Funções em src.load:\", dir(src.load))\n"
   ]
  }
 ],
 "metadata": {
  "kernelspec": {
   "display_name": "Python 3 (ipykernel)",
   "language": "python",
   "name": "python3"
  },
  "language_info": {
   "codemirror_mode": {
    "name": "ipython",
    "version": 3
   },
   "file_extension": ".py",
   "mimetype": "text/x-python",
   "name": "python",
   "nbconvert_exporter": "python",
   "pygments_lexer": "ipython3",
   "version": "3.13.5"
  },
  "widgets": {
   "application/vnd.jupyter.widget-state+json": {
    "state": {},
    "version_major": 2,
    "version_minor": 0
   }
  }
 },
 "nbformat": 4,
 "nbformat_minor": 5
}
